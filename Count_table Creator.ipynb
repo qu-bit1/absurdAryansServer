{
 "cells": [
  {
   "cell_type": "code",
   "execution_count": 1,
   "metadata": {},
   "outputs": [],
   "source": [
    "import numpy as np"
   ]
  },
  {
   "cell_type": "code",
   "execution_count": 2,
   "metadata": {},
   "outputs": [],
   "source": [
    "count_table = np.zeros((29,29,29,29,26))\n",
    "# x is prev\n",
    "# y is next\n",
    "# z is frequency of char\n",
    "# 27th is begin\n",
    "# 28th is end"
   ]
  },
  {
   "cell_type": "code",
   "execution_count": 3,
   "metadata": {},
   "outputs": [],
   "source": [
    "def perms(chars,ix):\n",
    "    n = len(chars)\n",
    "    \n",
    "    if ix==n:\n",
    "        return np.array([])\n",
    "    \n",
    "    if chars[ix]==26 or chars[ix]==27:\n",
    "        list = perms(chars,ix+1)\n",
    "        list2 = np.empty((0,n-ix))\n",
    "        for arr in list:\n",
    "            arr1 = np.append(arr,chars[ix])\n",
    "            list2 = np.vstack((list2, arr1))\n",
    "        if(len(list2)==0):\n",
    "                list2 = np.array([chars[ix]])\n",
    "        return list2\n",
    "    \n",
    "    list = perms(chars,ix+1)\n",
    "    list2 = np.empty((0,n-ix))\n",
    "    for arr in list:\n",
    "        arr1 = np.append(arr,chars[ix])\n",
    "        list2 = np.vstack((list2, arr1))\n",
    "        arr2 = np.append(arr,28)\n",
    "        list2 = np.vstack((list2, arr2))\n",
    "    if(len(list2)==0):\n",
    "            list2 = np.array([chars[ix],28])\n",
    "    return list2"
   ]
  },
  {
   "cell_type": "code",
   "execution_count": 4,
   "metadata": {},
   "outputs": [],
   "source": [
    "def is_match(perm, word):\n",
    "    flag = True\n",
    "    for i in range(4):\n",
    "      for j in range(i+1,4):\n",
    "        if word[i]==word[j] and perm[i]!=perm[j]:\n",
    "          return False\n",
    "    return True\n",
    "    "
   ]
  },
  {
   "cell_type": "code",
   "execution_count": 5,
   "metadata": {},
   "outputs": [],
   "source": [
    "def filter_perm(p,word):\n",
    "    list2 = np.empty((0,4))\n",
    "    for i,arr in enumerate(p):\n",
    "        count = 0\n",
    "        for j in range(4):\n",
    "            if arr[j]==28:\n",
    "                count+=1\n",
    "        if is_match(arr,word) and count<=1:            \n",
    "            list2 = np.vstack((list2, arr))\n",
    "    \n",
    "    return list2"
   ]
  },
  {
   "cell_type": "code",
   "execution_count": 6,
   "metadata": {},
   "outputs": [],
   "source": [
    "def rev_perm(p):\n",
    "    n = len(p)\n",
    "    for i,arr in enumerate(p):\n",
    "        p[i] = np.flip(arr)\n",
    "    \n",
    "    return p"
   ]
  },
  {
   "cell_type": "code",
   "execution_count": 7,
   "metadata": {},
   "outputs": [],
   "source": [
    "def encoded_list(word):\n",
    "    if(len(word)<4): \n",
    "        return []\n",
    "    list_e = np.empty((0,4))\n",
    "    n = len(word)\n",
    "    \n",
    "    for i in range(1,n):\n",
    "        ch1 = 26\n",
    "        ch2 = ord(word[i-1]) - ord('a')\n",
    "        ch3 = ord(word[i]) - ord('a')\n",
    "        ch4 = 27\n",
    "        if i!=1:\n",
    "            ch1 = ord(word[i-2]) - ord('a')\n",
    "        if i!=n-1:\n",
    "            ch4 = ord(word[i+1]) - ord('a')\n",
    "        \n",
    "        perm = perms(np.array([ch1,ch2,ch3,ch4]),0)\n",
    "        perm = filter_perm(perm,[ch1,ch2,ch3,ch4])\n",
    "        perm = rev_perm(perm)\n",
    "        list_e = np.vstack((list_e, perm))\n",
    "        \n",
    "    return list_e"
   ]
  },
  {
   "cell_type": "code",
   "execution_count": 8,
   "metadata": {},
   "outputs": [],
   "source": [
    "text_file = open(\"words_250000_train.txt\",\"r\")"
   ]
  },
  {
   "cell_type": "code",
   "execution_count": 9,
   "metadata": {},
   "outputs": [],
   "source": [
    "full_dictionary = text_file.read().splitlines()"
   ]
  },
  {
   "cell_type": "code",
   "execution_count": 10,
   "metadata": {},
   "outputs": [],
   "source": [
    "for word in full_dictionary:\n",
    "    \n",
    "    if(len(word)<4): \n",
    "        continue\n",
    "    \n",
    "    n = len(word)\n",
    "    \n",
    "    for j in range(1,n):\n",
    "        list_e = np.empty((0,4))\n",
    "        \n",
    "        # Make string\n",
    "        ch1 = 26\n",
    "        ch2 = ord(word[j-1]) - ord('a')\n",
    "        ch3 = ord(word[j]) - ord('a')\n",
    "        ch4 = 27\n",
    "        if j!=1:\n",
    "            ch1 = ord(word[j-2]) - ord('a')\n",
    "        if j!=n-1:\n",
    "            ch4 = ord(word[j+1]) - ord('a')\n",
    "            \n",
    "            \n",
    "        word1 = [ch1,ch2,ch3,ch4]        \n",
    "        \n",
    "        # Get perms\n",
    "        perm = perms(np.array([ch1,ch2,ch3,ch4]),0)\n",
    "        perm = filter_perm(perm,word1)\n",
    "        perm = rev_perm(perm)\n",
    "        list_e = np.vstack((list_e, perm))\n",
    "        \n",
    "        # upd table\n",
    "        for i in range(len(list_e)):\n",
    "            if (int)(list_e[i][0])==28:\n",
    "                count_table[28][(int)(list_e[i][1])][(int)(list_e[i][2])][(int)(list_e[i][3])][word1[0]] += 1\n",
    "            if (int)(list_e[i][1])==28:\n",
    "                count_table[(int)(list_e[i][0])][28][(int)(list_e[i][2])][(int)(list_e[i][3])][word1[1]] += 1\n",
    "            if (int)(list_e[i][2])==28:\n",
    "                count_table[(int)(list_e[i][0])][(int)(list_e[i][1])][28][(int)(list_e[i][3])][word1[2]] += 1\n",
    "            if (int)(list_e[i][3])==28:\n",
    "                count_table[(int)(list_e[i][0])][(int)(list_e[i][1])][(int)(list_e[i][2])][28][word1[3]] += 1"
   ]
  },
  {
   "cell_type": "code",
   "execution_count": null,
   "metadata": {},
   "outputs": [],
   "source": [
    "for i in range(29):\n",
    "    for j in range(29):\n",
    "        for k in range(29):\n",
    "            for m in range(29):\n",
    "                sum = 0\n",
    "                for n in range(26):\n",
    "                    sum+=count_table[i][j][k][m][n]\n",
    "                if sum!=0:\n",
    "                    for n in range(26):\n",
    "                        count_table[i][j][k][m][n]/=sum"
   ]
  },
  {
   "cell_type": "code",
   "execution_count": null,
   "metadata": {},
   "outputs": [],
   "source": [
    "np.save(\"Count_Table.npy\",count_table)"
   ]
  }
 ],
 "metadata": {
  "kernelspec": {
   "display_name": "env",
   "language": "python",
   "name": "python3"
  },
  "language_info": {
   "codemirror_mode": {
    "name": "ipython",
    "version": 3
   },
   "file_extension": ".py",
   "mimetype": "text/x-python",
   "name": "python",
   "nbconvert_exporter": "python",
   "pygments_lexer": "ipython3",
   "version": "3.10.12"
  },
  "orig_nbformat": 4
 },
 "nbformat": 4,
 "nbformat_minor": 2
}
